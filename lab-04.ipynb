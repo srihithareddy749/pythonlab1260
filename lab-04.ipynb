{
  "nbformat": 4,
  "nbformat_minor": 0,
  "metadata": {
    "colab": {
      "provenance": [],
      "authorship_tag": "ABX9TyMdbVWY3vdtL58NEXLx/M4z",
      "include_colab_link": true
    },
    "kernelspec": {
      "name": "python3",
      "display_name": "Python 3"
    },
    "language_info": {
      "name": "python"
    }
  },
  "cells": [
    {
      "cell_type": "markdown",
      "metadata": {
        "id": "view-in-github",
        "colab_type": "text"
      },
      "source": [
        "<a href=\"https://colab.research.google.com/github/srihithareddy749/pythonlab1260/blob/main/lab-04.ipynb\" target=\"_parent\"><img src=\"https://colab.research.google.com/assets/colab-badge.svg\" alt=\"Open In Colab\"/></a>"
      ]
    },
    {
      "cell_type": "code",
      "execution_count": 1,
      "metadata": {
        "colab": {
          "base_uri": "https://localhost:8080/"
        },
        "id": "LSGolDpB8SCi",
        "outputId": "94228922-ad0f-4897-8b9e-8c5276ff6a56"
      },
      "outputs": [
        {
          "output_type": "stream",
          "name": "stdout",
          "text": [
            "Pandas Series:\n",
            "0    10\n",
            "1    20\n",
            "2    30\n",
            "3    40\n",
            "4    50\n",
            "dtype: int64\n"
          ]
        }
      ],
      "source": [
        "import pandas as pd\n",
        "data =[10,20,30,40,50]\n",
        "series=pd.Series(data)\n",
        "\n",
        "print(\"Pandas Series:\")\n",
        "print(series)"
      ]
    },
    {
      "cell_type": "code",
      "source": [
        "import pandas as pd\n",
        "data=[10,20,30,40,50]\n",
        "index_lables=['a','b','c','d','e']\n",
        "series=pd.Series(data,index=index_lables)\n",
        "print(series)"
      ],
      "metadata": {
        "colab": {
          "base_uri": "https://localhost:8080/"
        },
        "id": "vNEz3d6_8lII",
        "outputId": "8143e6e7-d44f-4774-e6bc-77d671322810"
      },
      "execution_count": 3,
      "outputs": [
        {
          "output_type": "stream",
          "name": "stdout",
          "text": [
            "a    10\n",
            "b    20\n",
            "c    30\n",
            "d    40\n",
            "e    50\n",
            "dtype: int64\n"
          ]
        }
      ]
    },
    {
      "cell_type": "code",
      "source": [
        "import pandas as pd\n",
        "\n",
        "data={\n",
        "    'Name':['Alice','Bob','Charlie','David'],\n",
        "    'Age':[25,30,35,40],\n",
        "    'City':['Hyderabad','Delhi','Chennai','Mumbai']\n",
        "}\n",
        "\n",
        "df=pd.DataFrame(data)\n",
        "\n",
        "print(\"Pandas DataFrame:\")\n",
        "print(df)"
      ],
      "metadata": {
        "colab": {
          "base_uri": "https://localhost:8080/"
        },
        "id": "WGdlT0ep974m",
        "outputId": "00dae86e-dde9-451c-c23e-73a2d5fdbc25"
      },
      "execution_count": 4,
      "outputs": [
        {
          "output_type": "stream",
          "name": "stdout",
          "text": [
            "Pandas DataFrame:\n",
            "      Name  Age       City\n",
            "0    Alice   25  Hyderabad\n",
            "1      Bob   30      Delhi\n",
            "2  Charlie   35    Chennai\n",
            "3    David   40     Mumbai\n"
          ]
        }
      ]
    },
    {
      "cell_type": "code",
      "source": [
        "#Access a single coulmn\n",
        "print(df['Name'])\n",
        "\n",
        "#Access multiple columns\n",
        "print(df[['Name','City']])\n",
        "\n",
        "#Access rows using index\n",
        "print(df.iloc[1]) #row at index 1\n",
        "print(df.loc[2]) #row with label 2\n",
        "\n",
        "df['Salary'] = [40000,50000,60000,70000]\n",
        "print(df)\n",
        "\n",
        "df=df.drop('City',axis=1)\n",
        "print(df)"
      ],
      "metadata": {
        "colab": {
          "base_uri": "https://localhost:8080/"
        },
        "id": "mCA8PEjy-r39",
        "outputId": "07e63bab-55e4-4573-f1d7-cec10e308b0a"
      },
      "execution_count": 5,
      "outputs": [
        {
          "output_type": "stream",
          "name": "stdout",
          "text": [
            "0      Alice\n",
            "1        Bob\n",
            "2    Charlie\n",
            "3      David\n",
            "Name: Name, dtype: object\n",
            "      Name       City\n",
            "0    Alice  Hyderabad\n",
            "1      Bob      Delhi\n",
            "2  Charlie    Chennai\n",
            "3    David     Mumbai\n",
            "Name      Bob\n",
            "Age        30\n",
            "City    Delhi\n",
            "Name: 1, dtype: object\n",
            "Name    Charlie\n",
            "Age          35\n",
            "City    Chennai\n",
            "Name: 2, dtype: object\n",
            "      Name  Age       City  Salary\n",
            "0    Alice   25  Hyderabad   40000\n",
            "1      Bob   30      Delhi   50000\n",
            "2  Charlie   35    Chennai   60000\n",
            "3    David   40     Mumbai   70000\n",
            "      Name  Age  Salary\n",
            "0    Alice   25   40000\n",
            "1      Bob   30   50000\n",
            "2  Charlie   35   60000\n",
            "3    David   40   70000\n"
          ]
        }
      ]
    },
    {
      "cell_type": "code",
      "source": [
        "#Select rows where Age > 30\n",
        "print(df[df['Age']>30])\n",
        "\n",
        "print(df['Age'].mean()) # Average age\n",
        "print(df['Age'].max()) #Maximum age\n",
        "print(df['Age'].min()) #Minimum age"
      ],
      "metadata": {
        "colab": {
          "base_uri": "https://localhost:8080/"
        },
        "id": "l5v43rySAiWA",
        "outputId": "481580b5-3f9b-475e-c1af-a4efe5e1805a"
      },
      "execution_count": 6,
      "outputs": [
        {
          "output_type": "stream",
          "name": "stdout",
          "text": [
            "      Name  Age  Salary\n",
            "2  Charlie   35   60000\n",
            "3    David   40   70000\n",
            "32.5\n",
            "40\n",
            "25\n"
          ]
        }
      ]
    },
    {
      "cell_type": "code",
      "source": [
        "import pandas as pd\n",
        "#Create a DataFrame with student details\n",
        "student_data={\n",
        "    'Student_ID':[101, 102, 103, 104],\n",
        "    'Name': ['Ravi','Neha','Kiran','Sita'],\n",
        "    'Marks': [85,90,78,92],\n",
        "    'Department': ['CSE','ECE','MECH','CSE']\n",
        "}\n",
        "df=pd.DataFrame(student_data)\n",
        "print(\"Student Data:\")\n",
        "print(df)\n",
        "\n",
        "print(\"\\nStudents with Marks > 80:\")\n",
        "print(df[df['Marks'] > 80])\n",
        "\n",
        "print(\"\\nAverage Marks:\",df[\"Marks\"].mean())\n",
        "\n",
        "df['Result'] = ['Pass' if x>=40 else 'Fail' for x in df['Marks']]\n",
        "print(\"\\nWith Result Coulmn\")\n",
        "print(df)"
      ],
      "metadata": {
        "colab": {
          "base_uri": "https://localhost:8080/"
        },
        "id": "cl_BolCeCtmg",
        "outputId": "70c9298b-4cf3-4ace-8aa5-2882c4808977"
      },
      "execution_count": 9,
      "outputs": [
        {
          "output_type": "stream",
          "name": "stdout",
          "text": [
            "Student Data:\n",
            "   Student_ID   Name  Marks Department\n",
            "0         101   Ravi     85        CSE\n",
            "1         102   Neha     90        ECE\n",
            "2         103  Kiran     78       MECH\n",
            "3         104   Sita     92        CSE\n",
            "\n",
            "Students with Marks > 80:\n",
            "   Student_ID  Name  Marks Department\n",
            "0         101  Ravi     85        CSE\n",
            "1         102  Neha     90        ECE\n",
            "3         104  Sita     92        CSE\n",
            "\n",
            "Average Marks: 86.25\n",
            "\n",
            "With Result Coulmn\n",
            "   Student_ID   Name  Marks Department Result\n",
            "0         101   Ravi     85        CSE   Pass\n",
            "1         102   Neha     90        ECE   Pass\n",
            "2         103  Kiran     78       MECH   Pass\n",
            "3         104   Sita     92        CSE   Pass\n"
          ]
        }
      ]
    }
  ]
}